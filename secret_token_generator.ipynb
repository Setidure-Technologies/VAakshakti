{
 "cells": [
  {
   "cell_type": "code",
   "execution_count": 1,
   "id": "cae2e8b8",
   "metadata": {},
   "outputs": [
    {
     "name": "stdout",
     "output_type": "stream",
     "text": [
      "ae5af0748ac726d927ee24ca56d24b273b838c221cbd08625f2dc0b4b82c4cdb\n"
     ]
    }
   ],
   "source": [
    "import secrets\n",
    "print(secrets.token_hex(32))"
   ]
  },
  {
   "cell_type": "code",
   "execution_count": 1,
   "id": "207a015c",
   "metadata": {},
   "outputs": [
    {
     "name": "stdout",
     "output_type": "stream",
     "text": [
      "0ec552f3f82bbf0350401eddf2be25674220c3a6078b56af9cd124c7dff1f986\n"
     ]
    }
   ],
   "source": [
    "import secrets\n",
    "print(secrets.token_hex(32))"
   ]
  }
 ],
 "metadata": {
  "kernelspec": {
   "display_name": "venv",
   "language": "python",
   "name": "python3"
  },
  "language_info": {
   "codemirror_mode": {
    "name": "ipython",
    "version": 3
   },
   "file_extension": ".py",
   "mimetype": "text/x-python",
   "name": "python",
   "nbconvert_exporter": "python",
   "pygments_lexer": "ipython3",
   "version": "3.10.12"
  }
 },
 "nbformat": 4,
 "nbformat_minor": 5
}
